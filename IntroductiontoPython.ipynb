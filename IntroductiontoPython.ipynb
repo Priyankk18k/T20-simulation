{
  "nbformat": 4,
  "nbformat_minor": 0,
  "metadata": {
    "colab": {
      "name": "Copy of IntroductiontoPython.ipynb",
      "provenance": [],
      "authorship_tag": "ABX9TyOx8sLjeX46+1BFY3RVJMrG",
      "include_colab_link": true
    },
    "kernelspec": {
      "name": "python3",
      "display_name": "Python 3"
    }
  },
  "cells": [
    {
      "cell_type": "markdown",
      "metadata": {
        "id": "view-in-github",
        "colab_type": "text"
      },
      "source": [
        "<a href=\"https://colab.research.google.com/github/Priyankk18k/T20-simulation/blob/master/IntroductiontoPython.ipynb\" target=\"_parent\"><img src=\"https://colab.research.google.com/assets/colab-badge.svg\" alt=\"Open In Colab\"/></a>"
      ]
    },
    {
      "cell_type": "code",
      "metadata": {
        "id": "QDDeTjr2JrM9",
        "colab_type": "code",
        "outputId": "e1817268-1cef-47a4-be1d-09c207db4bdd",
        "colab": {
          "base_uri": "https://localhost:8080/",
          "height": 34
        }
      },
      "source": [
        "# Python code for \"Hello World\"   \n",
        "print(\"Hello World\") \n",
        "# thisIsMyFirstClass\n"
      ],
      "execution_count": 0,
      "outputs": [
        {
          "output_type": "stream",
          "text": [
            "Hello World\n"
          ],
          "name": "stdout"
        }
      ]
    },
    {
      "cell_type": "code",
      "metadata": {
        "id": "enc7SucPJ85T",
        "colab_type": "code",
        "outputId": "7336c5eb-d02a-469f-e6be-1c5f070526f3",
        "colab": {
          "base_uri": "https://localhost:8080/",
          "height": 68
        }
      },
      "source": [
        "# Python program to declare variables \n",
        "myNumber = 3\n",
        "print(myNumber) \n",
        "  \n",
        "myNumber2 = 4.5\n",
        "print(myNumber2) \n",
        "  \n",
        "myNumber =\"helloworld\"\n",
        "print(myNumber) "
      ],
      "execution_count": 0,
      "outputs": [
        {
          "output_type": "stream",
          "text": [
            "3\n",
            "4.5\n",
            "helloworld\n"
          ],
          "name": "stdout"
        }
      ]
    },
    {
      "cell_type": "code",
      "metadata": {
        "id": "lNFWakrsKLHj",
        "colab_type": "code",
        "colab": {}
      },
      "source": [
        "# camelCase\n",
        "# Define Everything in camelCase. First word should be in small then for a new word the first letter in the Capital.\n",
        "# This is what follows in the industry."
      ],
      "execution_count": 0,
      "outputs": []
    },
    {
      "cell_type": "markdown",
      "metadata": {
        "id": "JqHz2qrFKryT",
        "colab_type": "text"
      },
      "source": [
        "# Data Structures in Python\n",
        "# 1- List."
      ]
    },
    {
      "cell_type": "code",
      "metadata": {
        "id": "cPBIPvSNKkUJ",
        "colab_type": "code",
        "outputId": "ce8c55b1-fc01-4871-cd62-28cda26385ef",
        "colab": {
          "base_uri": "https://localhost:8080/",
          "height": 51
        }
      },
      "source": [
        "# List is the most basic Data Structure in python. \n",
        "# List is mutable data structure i.e items can be added to list later after the list creation.\n",
        "# Example :- You are going to buy fruits in a market. Now later you can add or remove fruits from you bastet or list.\n",
        "\n",
        "myFirstList = []\n",
        "# myFirstList = list()\n",
        "myFirstList.append(21) \n",
        "myFirstList.append(40.5) \n",
        "myFirstList.append(\"String\") \n",
        "  \n",
        "print(myFirstList) \n",
        "tuple(myFirstList)\n",
        "# List Can contain Any type of data inside it."
      ],
      "execution_count": 0,
      "outputs": [
        {
          "output_type": "stream",
          "text": [
            "[21, 40.5, 'String']\n"
          ],
          "name": "stdout"
        },
        {
          "output_type": "execute_result",
          "data": {
            "text/plain": [
              "(21, 40.5, 'String')"
            ]
          },
          "metadata": {
            "tags": []
          },
          "execution_count": 1
        }
      ]
    },
    {
      "cell_type": "markdown",
      "metadata": {
        "id": "aR8VUcmVMC7-",
        "colab_type": "text"
      },
      "source": [
        "# 2- Tuple"
      ]
    },
    {
      "cell_type": "code",
      "metadata": {
        "id": "mdWuSUdBKu_N",
        "colab_type": "code",
        "outputId": "6c474ee9-ad21-4b10-e21e-c55a330fc0a9",
        "colab": {
          "base_uri": "https://localhost:8080/",
          "height": 221
        }
      },
      "source": [
        "#Creating an empty Tuple \n",
        "Tuple1 = () \n",
        "print(\"Initial empty Tuple: \") \n",
        "print(Tuple1) \n",
        "  \n",
        "#Creatting a Tuple  \n",
        "#with the use of string\n",
        "# Tuple1 is overwriting itself. \n",
        "Tuple1 = ('Tuple', 'Class') \n",
        "print(\"\\nTuple with the use of String: \") \n",
        "print(Tuple1) \n",
        "\n",
        "  \n",
        "# Creating a Tuple with \n",
        "# the use of list \n",
        "list1 = [1, 2, 4, 5, 6] \n",
        "print(\"\\nTuple using List: \") \n",
        "print(tuple(list1)) \n",
        "  \n",
        "\n",
        "tuple1 = (1,2,3)\n",
        "print(list(tuple1))\n",
        "\n",
        "\n",
        "#Creating a Tuple  \n",
        "#with the use of built-in function \n",
        "Tuple1 = tuple('Class') \n",
        "print(\"\\nTuple with the use of function: \") \n",
        "print(Tuple1) "
      ],
      "execution_count": 0,
      "outputs": [
        {
          "output_type": "stream",
          "text": [
            "Initial empty Tuple: \n",
            "()\n",
            "\n",
            "Tuple with the use of String: \n",
            "('Tuple', 'Class')\n",
            "\n",
            "Tuple using List: \n",
            "(1, 2, 4, 5, 6)\n",
            "[1, 2, 3]\n",
            "\n",
            "Tuple with the use of function: \n",
            "('C', 'l', 'a', 's', 's')\n"
          ],
          "name": "stdout"
        }
      ]
    },
    {
      "cell_type": "markdown",
      "metadata": {
        "id": "cIWEfn7cNR11",
        "colab_type": "text"
      },
      "source": [
        "# 3 - Dictionary or Hash Map in other languages"
      ]
    },
    {
      "cell_type": "code",
      "metadata": {
        "id": "-nnyCOpBMM4g",
        "colab_type": "code",
        "outputId": "a93c20b9-d8fb-4bd8-c185-9f3a109755a0",
        "colab": {
          "base_uri": "https://localhost:8080/",
          "height": 136
        }
      },
      "source": [
        "# Combination of Key Value Pairs.\n",
        "# Creating a Dictionary.  \n",
        "# with Integer Keys. \n",
        "# Define By {}\n",
        "Dict = {1: 'Your', 2: 'first', 3: 'class'} \n",
        "print(\"\\nDictionary with the use of Integer Keys: \") \n",
        "print(Dict) \n",
        "  \n",
        "# Creating a Dictionary  \n",
        "# with Mixed keys \n",
        "Dict = {'Name': 'First', 1: [1, 2, 3, 4]} \n",
        "print(\"\\nDictionary with the use of Mixed Keys: \") \n",
        "print(Dict) \n",
        "\n",
        "\n",
        "# Nested Dictionary\n",
        "Dict = {1: 'Geeks', 2: 'For',  \n",
        "        3:{'A' : 'Welcome', 'B' : 'To', 'C' : 'Geeks'}} \n",
        "  \n",
        "print(Dict) "
      ],
      "execution_count": 0,
      "outputs": [
        {
          "output_type": "stream",
          "text": [
            "\n",
            "Dictionary with the use of Integer Keys: \n",
            "{1: 'Your', 2: 'first', 3: 'class'}\n",
            "\n",
            "Dictionary with the use of Mixed Keys: \n",
            "{'Name': 'First', 1: [1, 2, 3, 4]}\n",
            "{1: 'Geeks', 2: 'For', 3: {'A': 'Welcome', 'B': 'To', 'C': 'Geeks'}}\n"
          ],
          "name": "stdout"
        }
      ]
    },
    {
      "cell_type": "code",
      "metadata": {
        "id": "DL6ZcfsGSPr4",
        "colab_type": "code",
        "outputId": "fe6edc90-a186-40ec-811b-8e64ed9084d1",
        "colab": {
          "base_uri": "https://localhost:8080/",
          "height": 34
        }
      },
      "source": [
        "import json\n",
        "a= {'a':'b'}\n",
        "b=json.dumps(a)\n",
        "print(b)"
      ],
      "execution_count": 0,
      "outputs": [
        {
          "output_type": "stream",
          "text": [
            "{\"a\": \"b\"}\n"
          ],
          "name": "stdout"
        }
      ]
    },
    {
      "cell_type": "markdown",
      "metadata": {
        "id": "LlARg591OaXl",
        "colab_type": "text"
      },
      "source": [
        "# Functions in Python"
      ]
    },
    {
      "cell_type": "code",
      "metadata": {
        "id": "3ltIcjnhNuhq",
        "colab_type": "code",
        "outputId": "ca42aabf-e20a-4a99-e3a7-96d42fae718d",
        "colab": {
          "base_uri": "https://localhost:8080/",
          "height": 68
        }
      },
      "source": [
        "# We Use A def Keyword for a Fucntions\n",
        "\n",
        "def myFirstFunction():\n",
        "  return\n",
        "\n",
        "# Now Suppose We want to build a fucntion for Addition.\n",
        "\n",
        "def addition(a, b, c, d):\n",
        "  sum = a+b+c+d\n",
        "  return sum\n",
        "\n",
        "\n",
        "# If Else\n",
        "def multiplication(a= None, b= None, c = None):\n",
        "  if c == None:\n",
        "    sum = a*b\n",
        "    return sum\n",
        "  elif b == None and c == None:\n",
        "    sum = a\n",
        "    return sum\n",
        "  else:\n",
        "    sum = a*b*c    \n",
        "    return sum\n",
        "\n",
        "\n",
        "\n",
        "# Calling a Function.\n",
        "\n",
        "print(\"First Sum :-\", addition(1,2,3,4))\n",
        "print(\"multiplication:-\", multiplication(1,2,3))\n",
        "print(\"multiplication:-\", multiplication(1,2))\n"
      ],
      "execution_count": 0,
      "outputs": [
        {
          "output_type": "stream",
          "text": [
            "First Sum :- 10\n",
            "multiplication:- 6\n",
            "multiplication:- 2\n"
          ],
          "name": "stdout"
        }
      ]
    },
    {
      "cell_type": "markdown",
      "metadata": {
        "id": "VaO7va_BSy4v",
        "colab_type": "text"
      },
      "source": [
        "# Class"
      ]
    },
    {
      "cell_type": "code",
      "metadata": {
        "id": "lRu4MakrUCTP",
        "colab_type": "code",
        "outputId": "dad575bd-38b2-4338-dbea-345b56c4e859",
        "colab": {
          "base_uri": "https://localhost:8080/",
          "height": 51
        }
      },
      "source": [
        "a = 1\n",
        "print(type(a))\n",
        "b = 'aa'\n",
        "print(type(b))"
      ],
      "execution_count": 0,
      "outputs": [
        {
          "output_type": "stream",
          "text": [
            "<class 'int'>\n",
            "<class 'str'>\n"
          ],
          "name": "stdout"
        }
      ]
    },
    {
      "cell_type": "code",
      "metadata": {
        "id": "Grh3EtlOPcBR",
        "colab_type": "code",
        "outputId": "7a63bc90-4198-40f8-d14e-9b4dc2c8f56b",
        "colab": {
          "base_uri": "https://localhost:8080/",
          "height": 51
        }
      },
      "source": [
        "# object is one of instances of the class. which can perform the functionalities which are defined in the class.\n",
        "class Calculator():\n",
        "  \n",
        "  def addition(self, a, b, c, d):\n",
        "    sum = a+b+c+d\n",
        "    self.sum = sum\n",
        "    return sum\n",
        "\n",
        "\n",
        "  def sub(self,a,b ):\n",
        "    subt = a-b-self.sum\n",
        "    return subt  \n",
        "\n",
        "    \n",
        "a = Calculator()\n",
        "print(type(a))\n",
        "a.addition(1,2,3,4)\n",
        "a.sub(1,2)\n",
        "\n"
      ],
      "execution_count": 0,
      "outputs": [
        {
          "output_type": "stream",
          "text": [
            "<class '__main__.Computer'>\n"
          ],
          "name": "stdout"
        },
        {
          "output_type": "execute_result",
          "data": {
            "text/plain": [
              "-11"
            ]
          },
          "metadata": {
            "tags": []
          },
          "execution_count": 28
        }
      ]
    },
    {
      "cell_type": "code",
      "metadata": {
        "id": "ewm-iKr4ZGqb",
        "colab_type": "code",
        "colab": {}
      },
      "source": [
        "# self represents the instance of the class. By using the \"self\" keyword we can access the attributes and methods of the class in python.\n",
        "class Jan:\n",
        "\n",
        "  def __init__(self, i, j):\n",
        "    self.i = i\n",
        "    self.j = j\n",
        "\n",
        "\n",
        "  def add(self):\n",
        "    sum = self.i + self.j\n",
        "    self.sum = sum\n",
        "    return sum  "
      ],
      "execution_count": 0,
      "outputs": []
    },
    {
      "cell_type": "code",
      "metadata": {
        "id": "cPtg7sXsZbRo",
        "colab_type": "code",
        "outputId": "b9980064-0d69-48d6-9318-218333e5e341",
        "colab": {
          "base_uri": "https://localhost:8080/",
          "height": 34
        }
      },
      "source": [
        "obj = Jan(1,2)\n",
        "print(obj.add())"
      ],
      "execution_count": 0,
      "outputs": [
        {
          "output_type": "stream",
          "text": [
            "3\n"
          ],
          "name": "stdout"
        }
      ]
    },
    {
      "cell_type": "code",
      "metadata": {
        "id": "HYMVs2QhaikE",
        "colab_type": "code",
        "outputId": "d391cee7-7312-4931-a9bc-b38639dba674",
        "colab": {
          "base_uri": "https://localhost:8080/",
          "height": 51
        }
      },
      "source": [
        "class Rectangle:\n",
        "   def __init__(self, length, breadth, unit_cost=0):\n",
        "       self.length = length\n",
        "       self.breadth = breadth\n",
        "       self.unit_cost = unit_cost\n",
        "   \n",
        "   def get_perimeter(self):\n",
        "       return 2 * (self.length + self.breadth)\n",
        "   \n",
        "   def get_area(self):\n",
        "       return self.length * self.breadth\n",
        "   \n",
        "   def calculate_cost(self):\n",
        "       area = self.get_area()\n",
        "       return area * self.unit_cost\n",
        "# breadth = 120 cm, length = 160 cm, 1 cm^2 = Rs 2000\n",
        "r = Rectangle(160, 120, 2000)\n",
        "print(\"Area of Rectangle: %s cm^2\" % (r.get_area()))\n",
        "print(\"Cost of rectangular field: Rs. %s \" %(r.calculate_cost()))"
      ],
      "execution_count": 0,
      "outputs": [
        {
          "output_type": "stream",
          "text": [
            "Area of Rectangle: 19200 cm^2\n",
            "Cost of rectangular field: Rs. 38400000 \n"
          ],
          "name": "stdout"
        }
      ]
    },
    {
      "cell_type": "markdown",
      "metadata": {
        "id": "bPCeoU5cVMAE",
        "colab_type": "text"
      },
      "source": [
        "# Inheritance"
      ]
    },
    {
      "cell_type": "code",
      "metadata": {
        "id": "Ss4NoZobTFCI",
        "colab_type": "code",
        "outputId": "4b3c0630-60ea-48bf-dc31-516cd46acf8c",
        "colab": {
          "base_uri": "https://localhost:8080/",
          "height": 119
        }
      },
      "source": [
        "class A():\n",
        "  \n",
        "  def function1(self):\n",
        "    a= \"This is Function 1\"\n",
        "    return a\n",
        "\n",
        "  def function2(self):\n",
        "    a=\"This is Function 2\"\n",
        "    return a\n",
        "\n",
        "\n",
        "class B(A):\n",
        "  \n",
        "  def function3(self):\n",
        "    a=\"This is Function 3\"\n",
        "    return a\n",
        "\n",
        "  def function4(self):\n",
        "    a=\"This is function 4\"\n",
        "    return a \n",
        "\n",
        "# Calling the Parent Class\n",
        "a1 = A()\n",
        "print(\"Parent class function1\", a1.function1())\n",
        "print(\"Parent class function1\", a1.function2())   \n",
        "\n",
        "# Calling the parent class from child class.\n",
        "a2 = B()\n",
        "print(\"Parent class function\", a2.function1())\n",
        "print(\"Parent class function\", a2.function2())\n",
        "\n",
        "print(\"Child class function\", a2.function3())\n",
        "print(\"Child class Function\", a2.function4())\n"
      ],
      "execution_count": 0,
      "outputs": [
        {
          "output_type": "stream",
          "text": [
            "Parent class function1 This is Function 1\n",
            "Parent class function1 This is Function 2\n",
            "Parent class function This is Function 1\n",
            "Parent class function This is Function 2\n",
            "Child class function This is Function 3\n",
            "Child class Function This is function 4\n"
          ],
          "name": "stdout"
        }
      ]
    },
    {
      "cell_type": "markdown",
      "metadata": {
        "id": "hWnv7wkQYIon",
        "colab_type": "text"
      },
      "source": [
        "# Encapsulation"
      ]
    },
    {
      "cell_type": "code",
      "metadata": {
        "id": "X1jhN-t5WJBy",
        "colab_type": "code",
        "outputId": "397a3faf-ef07-414b-c807-5bb06f8bbbe3",
        "colab": {
          "base_uri": "https://localhost:8080/",
          "height": 51
        }
      },
      "source": [
        "# It describes the idea of wrapping data and the methods that work on data within one unit. \n",
        "# This puts restrictions on accessing variables and methods directly and can prevent the accidental modification of data.\n",
        "# Creating a base class \n",
        "class Base: \n",
        "    def __init__(self): \n",
        "          \n",
        "        # Protected member \n",
        "        self._a = 2\n",
        "  \n",
        "# Creating a derived class     \n",
        "class Derived(Base): \n",
        "    def __init__(self): \n",
        "          \n",
        "        # Calling constructor of \n",
        "        # Base class \n",
        "        Base.__init__(self)  \n",
        "        print(\"Calling protected member of base class: \") \n",
        "        print(self._a) \n",
        "          \n",
        "obj1 = Base() \n",
        "  \n",
        "# Calling protected member \n",
        "# Outside class will  result in  \n",
        "# AttributeError \n",
        "# print(obj1.a) \n",
        "  \n",
        "obj2 = Derived()"
      ],
      "execution_count": 0,
      "outputs": [
        {
          "output_type": "stream",
          "text": [
            "Calling protected member of base class: \n",
            "2\n"
          ],
          "name": "stdout"
        }
      ]
    },
    {
      "cell_type": "markdown",
      "metadata": {
        "id": "ws0lnPgVtJKO",
        "colab_type": "text"
      },
      "source": [
        "# Ploymorphism, Method Overloading and Overriding"
      ]
    },
    {
      "cell_type": "code",
      "metadata": {
        "id": "HsPPCA9tYM00",
        "colab_type": "code",
        "outputId": "4e5b874e-7d6f-4b9d-b7aa-bc9fd73a9283",
        "colab": {
          "base_uri": "https://localhost:8080/",
          "height": 68
        }
      },
      "source": [
        "# Method Overloading. \n",
        "class Calculator():\n",
        "  \n",
        "  def addition(self, a=None, b=None, c=None):\n",
        "    if a != None and b != None and c != None:\n",
        "      sum = a+b+c\n",
        "    elif c == None and b != None: \n",
        "      sum = a+b\n",
        "    elif b == None and c == None:\n",
        "      sum = a\n",
        "    return sum\n",
        "  \n",
        "\n",
        "cal = Calculator()\n",
        "print(\"First\", cal.addition(1,2,3))\n",
        "print(\"Second\", cal.addition(1,2))\n",
        "print(\"Third\", cal.addition(1))\n",
        "\n",
        "\n",
        "# Mehtod Overriding :- If you have already written a function in one class and you are again writing the same function in another class then you are overiding."
      ],
      "execution_count": 0,
      "outputs": [
        {
          "output_type": "stream",
          "text": [
            "First 6\n",
            "Second 3\n",
            "Third 1\n"
          ],
          "name": "stdout"
        }
      ]
    },
    {
      "cell_type": "code",
      "metadata": {
        "id": "5H1278r6uG_I",
        "colab_type": "code",
        "colab": {}
      },
      "source": [
        "# Abstraction in Python is the process of hiding the real implementation of an application from the user and emphasizing only on usage of it. \n",
        "# For example, consider you have bought a new electronic gadget. \n",
        "# Along with the gadget, you get a user guide, instructing how to use the application, \n",
        "# but this user guide has no info regarding the internal working of the gadget."
      ],
      "execution_count": 0,
      "outputs": []
    },
    {
      "cell_type": "markdown",
      "metadata": {
        "id": "y11iZkDIzuv7",
        "colab_type": "text"
      },
      "source": [
        "# Indexing Loc, Iloc "
      ]
    },
    {
      "cell_type": "code",
      "metadata": {
        "id": "9gU1jLtLvO_0",
        "colab_type": "code",
        "colab": {}
      },
      "source": [
        " # This will be your Homework Which you have to learn on your own right Now.\n",
        " # Link to learn :- https://www.shanelynn.ie/select-pandas-dataframe-rows-and-columns-using-iloc-loc-and-ix/"
      ],
      "execution_count": 0,
      "outputs": []
    },
    {
      "cell_type": "code",
      "metadata": {
        "id": "7b3LQIq10jPd",
        "colab_type": "code",
        "colab": {}
      },
      "source": [
        "ravi = {'sanjeev': {'priyank' : 0},\n",
        "        'prithvi': {'priyank' : 0},\n",
        "        'sanket': {'priyank' : 0},\n",
        "        'galgotia': {'priyank' : 0}}\n",
        "\n",
        "ravi['sanket']['priyank'] += 1"
      ],
      "execution_count": 0,
      "outputs": []
    },
    {
      "cell_type": "code",
      "metadata": {
        "id": "MdneeCz7gkXW",
        "colab_type": "code",
        "colab": {
          "base_uri": "https://localhost:8080/",
          "height": 51
        },
        "outputId": "d850ee67-d8d8-4949-8da7-fa27bc60858b"
      },
      "source": [
        "for key,value in ravi.items():\n",
        "  print(key)\n",
        "  print(value)\n",
        "  break"
      ],
      "execution_count": 8,
      "outputs": [
        {
          "output_type": "stream",
          "text": [
            "sanjeev\n",
            "{'priyank': 0}\n"
          ],
          "name": "stdout"
        }
      ]
    },
    {
      "cell_type": "code",
      "metadata": {
        "id": "nlMgUf1rh9Yu",
        "colab_type": "code",
        "colab": {
          "base_uri": "https://localhost:8080/",
          "height": 34
        },
        "outputId": "0d696327-5bd2-4416-8689-798019adf90d"
      },
      "source": [
        ""
      ],
      "execution_count": 11,
      "outputs": [
        {
          "output_type": "stream",
          "text": [
            "helloworld 1\n"
          ],
          "name": "stdout"
        }
      ]
    },
    {
      "cell_type": "code",
      "metadata": {
        "id": "U-F0e-KGiVpJ",
        "colab_type": "code",
        "colab": {
          "base_uri": "https://localhost:8080/",
          "height": 34
        },
        "outputId": "a7ea19c0-8c3f-48b4-c505-b57f66494c42"
      },
      "source": [
        "a = [1,2,3]"
      ],
      "execution_count": 12,
      "outputs": [
        {
          "output_type": "execute_result",
          "data": {
            "text/plain": [
              "[3, 2, 1]"
            ]
          },
          "metadata": {
            "tags": []
          },
          "execution_count": 12
        }
      ]
    },
    {
      "cell_type": "code",
      "metadata": {
        "id": "PcNDAonRkx3d",
        "colab_type": "code",
        "colab": {}
      },
      "source": [
        ""
      ],
      "execution_count": 0,
      "outputs": []
    }
  ]
}